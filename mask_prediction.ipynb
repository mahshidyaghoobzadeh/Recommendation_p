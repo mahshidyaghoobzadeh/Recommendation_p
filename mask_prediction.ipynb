{
  "nbformat": 4,
  "nbformat_minor": 0,
  "metadata": {
    "colab": {
      "provenance": [],
      "include_colab_link": true
    },
    "kernelspec": {
      "display_name": "Python 3",
      "name": "python3"
    },
    "language_info": {
      "name": "python"
    }
  },
  "cells": [
    {
      "cell_type": "markdown",
      "metadata": {
        "id": "view-in-github",
        "colab_type": "text"
      },
      "source": [
        "<a href=\"https://colab.research.google.com/github/mahshidyaghoobzadeh/Recommendation_p/blob/main/mask_prediction.ipynb\" target=\"_parent\"><img src=\"https://colab.research.google.com/assets/colab-badge.svg\" alt=\"Open In Colab\"/></a>"
      ]
    },
    {
      "cell_type": "code",
      "metadata": {
        "colab": {
          "base_uri": "https://localhost:8080/"
        },
        "id": "jFk-BntKJmb2",
        "outputId": "c2223054-1e57-46bd-c732-b12949b25ed2"
      },
      "source": [
        "import nltk\n",
        "nltk.download('stopwords')"
      ],
      "execution_count": null,
      "outputs": [
        {
          "output_type": "stream",
          "text": [
            "[nltk_data] Downloading package stopwords to /root/nltk_data...\n",
            "[nltk_data]   Unzipping corpora/stopwords.zip.\n"
          ],
          "name": "stdout"
        },
        {
          "output_type": "execute_result",
          "data": {
            "text/plain": [
              "True"
            ]
          },
          "metadata": {
            "tags": []
          },
          "execution_count": 2
        }
      ]
    },
    {
      "cell_type": "code",
      "metadata": {
        "colab": {
          "base_uri": "https://localhost:8080/"
        },
        "id": "_ZF2OXkAT3vd",
        "outputId": "02461a59-8f89-4b90-85da-ef7d3ec2f87b"
      },
      "source": [
        "from google.colab import drive\n",
        "drive.mount('/content/drive')"
      ],
      "execution_count": null,
      "outputs": [
        {
          "output_type": "stream",
          "text": [
            "Drive already mounted at /content/drive; to attempt to forcibly remount, call drive.mount(\"/content/drive\", force_remount=True).\n"
          ],
          "name": "stdout"
        }
      ]
    },
    {
      "cell_type": "code",
      "metadata": {
        "colab": {
          "base_uri": "https://localhost:8080/"
        },
        "id": "wiZ341V1KsHq",
        "outputId": "463b0acc-255f-4acc-ad58-8500a37579e8"
      },
      "source": [
        "import nltk\n",
        "nltk.download('punkt')"
      ],
      "execution_count": null,
      "outputs": [
        {
          "output_type": "stream",
          "text": [
            "[nltk_data] Downloading package punkt to /root/nltk_data...\n",
            "[nltk_data]   Unzipping tokenizers/punkt.zip.\n"
          ],
          "name": "stdout"
        },
        {
          "output_type": "execute_result",
          "data": {
            "text/plain": [
              "True"
            ]
          },
          "metadata": {
            "tags": []
          },
          "execution_count": 4
        }
      ]
    },
    {
      "cell_type": "code",
      "metadata": {
        "id": "swvSi5CWH52p"
      },
      "source": [
        "import nltk\n",
        "from nltk.corpus import stopwords\n",
        "from nltk.tokenize import word_tokenize\n",
        "\n",
        "from nltk.corpus import stopwords\n",
        "from nltk.tokenize import word_tokenize\n",
        "from nltk.stem import PorterStemmer\n",
        "from collections import Counter\n",
        "from nltk import tokenize\n",
        "from operator import itemgetter\n",
        "import math\n",
        "import nltk\n",
        "import os\n",
        "import string\n",
        "import numpy as np\n",
        "import copy\n",
        "import pandas as pd\n",
        "import pickle\n",
        "import re\n",
        "import math"
      ],
      "execution_count": null,
      "outputs": []
    },
    {
      "cell_type": "code",
      "metadata": {
        "id": "yjCwJ3U71hWi"
      },
      "source": [
        "import numpy as np\n",
        "import pandas as pd\n",
        "import torch\n",
        "import tensorflow as tf\n",
        "import matplotlib.pyplot as plt\n"
      ],
      "execution_count": null,
      "outputs": []
    },
    {
      "cell_type": "code",
      "metadata": {
        "id": "EUxBnE6Jj8gW"
      },
      "source": [
        "import nltk\n",
        "from nltk.corpus import stopwords\n",
        "from nltk.tokenize import word_tokenize\n",
        "stop_words = set(stopwords.words('english'))"
      ],
      "execution_count": null,
      "outputs": []
    },
    {
      "cell_type": "code",
      "metadata": {
        "colab": {
          "base_uri": "https://localhost:8080/"
        },
        "id": "IUscIJiR2r0q",
        "outputId": "6877aa23-6af4-4aa3-f0e6-2aef732b2cba"
      },
      "source": [
        "df = pd.read_csv('/content/dataset_facemask_with_target1.csv')\n",
        "df = df.fillna(df.mode().iloc[0])\n",
        "df.isnull().sum()\n",
        "print(df.shape)"
      ],
      "execution_count": null,
      "outputs": [
        {
          "output_type": "stream",
          "text": [
            "(536, 17)\n"
          ],
          "name": "stdout"
        }
      ]
    },
    {
      "cell_type": "code",
      "metadata": {
        "id": "6gCOnRlk5k2c"
      },
      "source": [
        "text = []\n",
        "for i in range(df['How to make or use'].shape[0]):\n",
        "  text.append(df['How to make or use'][i])\n"
      ],
      "execution_count": null,
      "outputs": []
    },
    {
      "cell_type": "code",
      "metadata": {
        "id": "-8wlIesnHnk9"
      },
      "source": [
        "symbols = \"!\\\"#$%&()*+-./:;<=>?@[\\]^_`{|}~\\n\"\n",
        "for i in symbols:\n",
        "    data = np.char.replace(text, i, ' ')\n"
      ],
      "execution_count": null,
      "outputs": []
    },
    {
      "cell_type": "code",
      "metadata": {
        "id": "bEuoSQyjmAL_"
      },
      "source": [
        "def check_sent(word, sentences):\n",
        "    final = [all([w in x for w in word]) for x in sentences]\n",
        "    sent_len = [sentences[i] for i in range(0, len(final)) if final[i]]\n",
        "    return int(len(sent_len))"
      ],
      "execution_count": null,
      "outputs": []
    },
    {
      "cell_type": "code",
      "metadata": {
        "id": "Gv0B43r5mcXC"
      },
      "source": [
        "def get_top_n(dict_elem, n):\n",
        "    result = dict(sorted(dict_elem.items(), key = itemgetter(1), reverse = True)[:n])\n",
        "    return result"
      ],
      "execution_count": null,
      "outputs": []
    },
    {
      "cell_type": "code",
      "metadata": {
        "id": "C8UMH__fkFbK",
        "colab": {
          "base_uri": "https://localhost:8080/"
        },
        "outputId": "00d5cd58-1a1b-4118-b6b1-a95d23558e4b"
      },
      "source": [
        "for i in range(df.shape[0]):\n",
        "  doc = df['How to make or use'][i]\n",
        "  total_words = doc.split()\n",
        "  total_word_length = len(total_words)\n",
        "  print(\"total number of word is :\",total_word_length)\n",
        "  total_sentences = tokenize.sent_tokenize(doc)\n",
        "  total_sent_len = len(total_sentences)\n",
        "  print(\"Total number of sentences is :\", total_sent_len)\n"
      ],
      "execution_count": null,
      "outputs": [
        {
          "output_type": "stream",
          "text": [
            "total number of word is : 192\n",
            "Total number of sentences is : 13\n",
            "total number of word is : 100\n",
            "Total number of sentences is : 7\n",
            "total number of word is : 38\n",
            "Total number of sentences is : 4\n",
            "total number of word is : 38\n",
            "Total number of sentences is : 3\n",
            "total number of word is : 31\n",
            "Total number of sentences is : 2\n",
            "total number of word is : 39\n",
            "Total number of sentences is : 2\n",
            "total number of word is : 36\n",
            "Total number of sentences is : 2\n",
            "total number of word is : 31\n",
            "Total number of sentences is : 3\n",
            "total number of word is : 47\n",
            "Total number of sentences is : 2\n",
            "total number of word is : 34\n",
            "Total number of sentences is : 1\n",
            "total number of word is : 41\n",
            "Total number of sentences is : 3\n",
            "total number of word is : 42\n",
            "Total number of sentences is : 3\n",
            "total number of word is : 49\n",
            "Total number of sentences is : 5\n",
            "total number of word is : 24\n",
            "Total number of sentences is : 3\n",
            "total number of word is : 28\n",
            "Total number of sentences is : 4\n",
            "total number of word is : 53\n",
            "Total number of sentences is : 5\n",
            "total number of word is : 27\n",
            "Total number of sentences is : 3\n",
            "total number of word is : 41\n",
            "Total number of sentences is : 4\n",
            "total number of word is : 27\n",
            "Total number of sentences is : 1\n",
            "total number of word is : 10\n",
            "Total number of sentences is : 1\n",
            "total number of word is : 22\n",
            "Total number of sentences is : 2\n",
            "total number of word is : 17\n",
            "Total number of sentences is : 2\n",
            "total number of word is : 15\n",
            "Total number of sentences is : 2\n",
            "total number of word is : 10\n",
            "Total number of sentences is : 1\n",
            "total number of word is : 20\n",
            "Total number of sentences is : 1\n",
            "total number of word is : 20\n",
            "Total number of sentences is : 1\n",
            "total number of word is : 15\n",
            "Total number of sentences is : 1\n",
            "total number of word is : 14\n",
            "Total number of sentences is : 1\n",
            "total number of word is : 43\n",
            "Total number of sentences is : 3\n",
            "total number of word is : 25\n",
            "Total number of sentences is : 2\n",
            "total number of word is : 21\n",
            "Total number of sentences is : 1\n",
            "total number of word is : 17\n",
            "Total number of sentences is : 1\n",
            "total number of word is : 39\n",
            "Total number of sentences is : 3\n",
            "total number of word is : 45\n",
            "Total number of sentences is : 4\n",
            "total number of word is : 20\n",
            "Total number of sentences is : 2\n",
            "total number of word is : 41\n",
            "Total number of sentences is : 2\n",
            "total number of word is : 61\n",
            "Total number of sentences is : 5\n",
            "total number of word is : 28\n",
            "Total number of sentences is : 3\n",
            "total number of word is : 43\n",
            "Total number of sentences is : 4\n",
            "total number of word is : 25\n",
            "Total number of sentences is : 2\n",
            "total number of word is : 39\n",
            "Total number of sentences is : 3\n",
            "total number of word is : 59\n",
            "Total number of sentences is : 5\n",
            "total number of word is : 19\n",
            "Total number of sentences is : 1\n",
            "total number of word is : 40\n",
            "Total number of sentences is : 4\n",
            "total number of word is : 65\n",
            "Total number of sentences is : 4\n",
            "total number of word is : 38\n",
            "Total number of sentences is : 2\n",
            "total number of word is : 14\n",
            "Total number of sentences is : 1\n",
            "total number of word is : 74\n",
            "Total number of sentences is : 6\n",
            "total number of word is : 40\n",
            "Total number of sentences is : 2\n",
            "total number of word is : 49\n",
            "Total number of sentences is : 3\n",
            "total number of word is : 47\n",
            "Total number of sentences is : 5\n",
            "total number of word is : 42\n",
            "Total number of sentences is : 4\n",
            "total number of word is : 11\n",
            "Total number of sentences is : 1\n",
            "total number of word is : 31\n",
            "Total number of sentences is : 2\n",
            "total number of word is : 45\n",
            "Total number of sentences is : 3\n",
            "total number of word is : 32\n",
            "Total number of sentences is : 3\n",
            "total number of word is : 31\n",
            "Total number of sentences is : 3\n",
            "total number of word is : 23\n",
            "Total number of sentences is : 3\n",
            "total number of word is : 62\n",
            "Total number of sentences is : 4\n",
            "total number of word is : 33\n",
            "Total number of sentences is : 3\n",
            "total number of word is : 66\n",
            "Total number of sentences is : 4\n",
            "total number of word is : 46\n",
            "Total number of sentences is : 3\n",
            "total number of word is : 47\n",
            "Total number of sentences is : 4\n",
            "total number of word is : 45\n",
            "Total number of sentences is : 3\n",
            "total number of word is : 40\n",
            "Total number of sentences is : 2\n",
            "total number of word is : 16\n",
            "Total number of sentences is : 1\n",
            "total number of word is : 35\n",
            "Total number of sentences is : 2\n",
            "total number of word is : 12\n",
            "Total number of sentences is : 1\n",
            "total number of word is : 8\n",
            "Total number of sentences is : 1\n",
            "total number of word is : 35\n",
            "Total number of sentences is : 2\n",
            "total number of word is : 53\n",
            "Total number of sentences is : 5\n",
            "total number of word is : 27\n",
            "Total number of sentences is : 2\n",
            "total number of word is : 40\n",
            "Total number of sentences is : 3\n",
            "total number of word is : 30\n",
            "Total number of sentences is : 2\n",
            "total number of word is : 22\n",
            "Total number of sentences is : 2\n",
            "total number of word is : 45\n",
            "Total number of sentences is : 3\n",
            "total number of word is : 29\n",
            "Total number of sentences is : 2\n",
            "total number of word is : 9\n",
            "Total number of sentences is : 1\n",
            "total number of word is : 19\n",
            "Total number of sentences is : 1\n",
            "total number of word is : 30\n",
            "Total number of sentences is : 3\n",
            "total number of word is : 49\n",
            "Total number of sentences is : 2\n",
            "total number of word is : 17\n",
            "Total number of sentences is : 1\n",
            "total number of word is : 9\n",
            "Total number of sentences is : 1\n",
            "total number of word is : 10\n",
            "Total number of sentences is : 1\n",
            "total number of word is : 14\n",
            "Total number of sentences is : 1\n",
            "total number of word is : 10\n",
            "Total number of sentences is : 1\n",
            "total number of word is : 10\n",
            "Total number of sentences is : 1\n",
            "total number of word is : 16\n",
            "Total number of sentences is : 1\n",
            "total number of word is : 7\n",
            "Total number of sentences is : 1\n",
            "total number of word is : 12\n",
            "Total number of sentences is : 1\n",
            "total number of word is : 27\n",
            "Total number of sentences is : 1\n",
            "total number of word is : 12\n",
            "Total number of sentences is : 1\n",
            "total number of word is : 50\n",
            "Total number of sentences is : 3\n",
            "total number of word is : 17\n",
            "Total number of sentences is : 1\n",
            "total number of word is : 12\n",
            "Total number of sentences is : 1\n",
            "total number of word is : 7\n",
            "Total number of sentences is : 1\n",
            "total number of word is : 81\n",
            "Total number of sentences is : 5\n",
            "total number of word is : 17\n",
            "Total number of sentences is : 1\n",
            "total number of word is : 14\n",
            "Total number of sentences is : 1\n",
            "total number of word is : 12\n",
            "Total number of sentences is : 1\n",
            "total number of word is : 14\n",
            "Total number of sentences is : 1\n",
            "total number of word is : 26\n",
            "Total number of sentences is : 1\n",
            "total number of word is : 32\n",
            "Total number of sentences is : 2\n",
            "total number of word is : 13\n",
            "Total number of sentences is : 1\n",
            "total number of word is : 33\n",
            "Total number of sentences is : 1\n",
            "total number of word is : 36\n",
            "Total number of sentences is : 4\n",
            "total number of word is : 35\n",
            "Total number of sentences is : 4\n",
            "total number of word is : 38\n",
            "Total number of sentences is : 3\n",
            "total number of word is : 12\n",
            "Total number of sentences is : 1\n",
            "total number of word is : 44\n",
            "Total number of sentences is : 4\n",
            "total number of word is : 12\n",
            "Total number of sentences is : 1\n",
            "total number of word is : 8\n",
            "Total number of sentences is : 1\n",
            "total number of word is : 67\n",
            "Total number of sentences is : 5\n",
            "total number of word is : 67\n",
            "Total number of sentences is : 5\n",
            "total number of word is : 98\n",
            "Total number of sentences is : 7\n",
            "total number of word is : 36\n",
            "Total number of sentences is : 3\n",
            "total number of word is : 93\n",
            "Total number of sentences is : 6\n",
            "total number of word is : 47\n",
            "Total number of sentences is : 3\n",
            "total number of word is : 52\n",
            "Total number of sentences is : 4\n",
            "total number of word is : 45\n",
            "Total number of sentences is : 3\n",
            "total number of word is : 50\n",
            "Total number of sentences is : 1\n",
            "total number of word is : 31\n",
            "Total number of sentences is : 2\n",
            "total number of word is : 31\n",
            "Total number of sentences is : 3\n",
            "total number of word is : 36\n",
            "Total number of sentences is : 1\n",
            "total number of word is : 57\n",
            "Total number of sentences is : 4\n",
            "total number of word is : 36\n",
            "Total number of sentences is : 3\n",
            "total number of word is : 29\n",
            "Total number of sentences is : 3\n",
            "total number of word is : 34\n",
            "Total number of sentences is : 2\n",
            "total number of word is : 40\n",
            "Total number of sentences is : 3\n",
            "total number of word is : 42\n",
            "Total number of sentences is : 4\n",
            "total number of word is : 43\n",
            "Total number of sentences is : 3\n",
            "total number of word is : 22\n",
            "Total number of sentences is : 1\n",
            "total number of word is : 19\n",
            "Total number of sentences is : 1\n",
            "total number of word is : 23\n",
            "Total number of sentences is : 1\n",
            "total number of word is : 97\n",
            "Total number of sentences is : 10\n",
            "total number of word is : 27\n",
            "Total number of sentences is : 3\n",
            "total number of word is : 41\n",
            "Total number of sentences is : 4\n",
            "total number of word is : 41\n",
            "Total number of sentences is : 5\n",
            "total number of word is : 46\n",
            "Total number of sentences is : 4\n",
            "total number of word is : 26\n",
            "Total number of sentences is : 3\n",
            "total number of word is : 41\n",
            "Total number of sentences is : 4\n",
            "total number of word is : 30\n",
            "Total number of sentences is : 3\n",
            "total number of word is : 26\n",
            "Total number of sentences is : 3\n",
            "total number of word is : 36\n",
            "Total number of sentences is : 2\n",
            "total number of word is : 32\n",
            "Total number of sentences is : 2\n",
            "total number of word is : 38\n",
            "Total number of sentences is : 3\n",
            "total number of word is : 59\n",
            "Total number of sentences is : 1\n",
            "total number of word is : 16\n",
            "Total number of sentences is : 1\n",
            "total number of word is : 24\n",
            "Total number of sentences is : 1\n",
            "total number of word is : 47\n",
            "Total number of sentences is : 3\n",
            "total number of word is : 57\n",
            "Total number of sentences is : 4\n",
            "total number of word is : 36\n",
            "Total number of sentences is : 3\n",
            "total number of word is : 56\n",
            "Total number of sentences is : 4\n",
            "total number of word is : 44\n",
            "Total number of sentences is : 3\n",
            "total number of word is : 44\n",
            "Total number of sentences is : 3\n",
            "total number of word is : 51\n",
            "Total number of sentences is : 4\n",
            "total number of word is : 46\n",
            "Total number of sentences is : 4\n",
            "total number of word is : 38\n",
            "Total number of sentences is : 2\n",
            "total number of word is : 31\n",
            "Total number of sentences is : 3\n",
            "total number of word is : 38\n",
            "Total number of sentences is : 3\n",
            "total number of word is : 48\n",
            "Total number of sentences is : 5\n",
            "total number of word is : 32\n",
            "Total number of sentences is : 3\n",
            "total number of word is : 22\n",
            "Total number of sentences is : 2\n",
            "total number of word is : 29\n",
            "Total number of sentences is : 2\n",
            "total number of word is : 8\n",
            "Total number of sentences is : 1\n",
            "total number of word is : 27\n",
            "Total number of sentences is : 2\n",
            "total number of word is : 25\n",
            "Total number of sentences is : 3\n",
            "total number of word is : 16\n",
            "Total number of sentences is : 1\n",
            "total number of word is : 40\n",
            "Total number of sentences is : 5\n",
            "total number of word is : 33\n",
            "Total number of sentences is : 3\n",
            "total number of word is : 13\n",
            "Total number of sentences is : 1\n",
            "total number of word is : 33\n",
            "Total number of sentences is : 2\n",
            "total number of word is : 64\n",
            "Total number of sentences is : 6\n",
            "total number of word is : 7\n",
            "Total number of sentences is : 1\n",
            "total number of word is : 3\n",
            "Total number of sentences is : 1\n",
            "total number of word is : 25\n",
            "Total number of sentences is : 1\n",
            "total number of word is : 38\n",
            "Total number of sentences is : 4\n",
            "total number of word is : 29\n",
            "Total number of sentences is : 2\n",
            "total number of word is : 32\n",
            "Total number of sentences is : 2\n",
            "total number of word is : 27\n",
            "Total number of sentences is : 2\n",
            "total number of word is : 30\n",
            "Total number of sentences is : 2\n",
            "total number of word is : 52\n",
            "Total number of sentences is : 3\n",
            "total number of word is : 25\n",
            "Total number of sentences is : 2\n",
            "total number of word is : 58\n",
            "Total number of sentences is : 4\n",
            "total number of word is : 34\n",
            "Total number of sentences is : 3\n",
            "total number of word is : 40\n",
            "Total number of sentences is : 3\n",
            "total number of word is : 25\n",
            "Total number of sentences is : 3\n",
            "total number of word is : 22\n",
            "Total number of sentences is : 2\n",
            "total number of word is : 72\n",
            "Total number of sentences is : 6\n",
            "total number of word is : 41\n",
            "Total number of sentences is : 3\n",
            "total number of word is : 31\n",
            "Total number of sentences is : 2\n",
            "total number of word is : 53\n",
            "Total number of sentences is : 3\n",
            "total number of word is : 59\n",
            "Total number of sentences is : 3\n",
            "total number of word is : 28\n",
            "Total number of sentences is : 2\n",
            "total number of word is : 49\n",
            "Total number of sentences is : 2\n",
            "total number of word is : 53\n",
            "Total number of sentences is : 3\n",
            "total number of word is : 42\n",
            "Total number of sentences is : 2\n",
            "total number of word is : 42\n",
            "Total number of sentences is : 3\n",
            "total number of word is : 23\n",
            "Total number of sentences is : 1\n",
            "total number of word is : 13\n",
            "Total number of sentences is : 1\n",
            "total number of word is : 15\n",
            "Total number of sentences is : 1\n",
            "total number of word is : 29\n",
            "Total number of sentences is : 2\n",
            "total number of word is : 36\n",
            "Total number of sentences is : 2\n",
            "total number of word is : 32\n",
            "Total number of sentences is : 2\n",
            "total number of word is : 26\n",
            "Total number of sentences is : 4\n",
            "total number of word is : 29\n",
            "Total number of sentences is : 4\n",
            "total number of word is : 49\n",
            "Total number of sentences is : 5\n",
            "total number of word is : 28\n",
            "Total number of sentences is : 3\n",
            "total number of word is : 53\n",
            "Total number of sentences is : 3\n",
            "total number of word is : 58\n",
            "Total number of sentences is : 4\n",
            "total number of word is : 87\n",
            "Total number of sentences is : 5\n",
            "total number of word is : 39\n",
            "Total number of sentences is : 3\n",
            "total number of word is : 6\n",
            "Total number of sentences is : 1\n",
            "total number of word is : 11\n",
            "Total number of sentences is : 1\n",
            "total number of word is : 34\n",
            "Total number of sentences is : 2\n",
            "total number of word is : 27\n",
            "Total number of sentences is : 2\n",
            "total number of word is : 23\n",
            "Total number of sentences is : 2\n",
            "total number of word is : 29\n",
            "Total number of sentences is : 2\n",
            "total number of word is : 31\n",
            "Total number of sentences is : 2\n",
            "total number of word is : 33\n",
            "Total number of sentences is : 4\n",
            "total number of word is : 28\n",
            "Total number of sentences is : 2\n",
            "total number of word is : 32\n",
            "Total number of sentences is : 2\n",
            "total number of word is : 156\n",
            "Total number of sentences is : 13\n",
            "total number of word is : 42\n",
            "Total number of sentences is : 2\n",
            "total number of word is : 46\n",
            "Total number of sentences is : 3\n",
            "total number of word is : 91\n",
            "Total number of sentences is : 4\n",
            "total number of word is : 46\n",
            "Total number of sentences is : 2\n",
            "total number of word is : 32\n",
            "Total number of sentences is : 1\n",
            "total number of word is : 38\n",
            "Total number of sentences is : 2\n",
            "total number of word is : 22\n",
            "Total number of sentences is : 2\n",
            "total number of word is : 27\n",
            "Total number of sentences is : 1\n",
            "total number of word is : 36\n",
            "Total number of sentences is : 3\n",
            "total number of word is : 57\n",
            "Total number of sentences is : 7\n",
            "total number of word is : 65\n",
            "Total number of sentences is : 6\n",
            "total number of word is : 35\n",
            "Total number of sentences is : 3\n",
            "total number of word is : 32\n",
            "Total number of sentences is : 2\n",
            "total number of word is : 44\n",
            "Total number of sentences is : 3\n",
            "total number of word is : 54\n",
            "Total number of sentences is : 1\n",
            "total number of word is : 89\n",
            "Total number of sentences is : 8\n",
            "total number of word is : 55\n",
            "Total number of sentences is : 2\n",
            "total number of word is : 41\n",
            "Total number of sentences is : 2\n",
            "total number of word is : 51\n",
            "Total number of sentences is : 5\n",
            "total number of word is : 90\n",
            "Total number of sentences is : 2\n",
            "total number of word is : 33\n",
            "Total number of sentences is : 3\n",
            "total number of word is : 33\n",
            "Total number of sentences is : 2\n",
            "total number of word is : 31\n",
            "Total number of sentences is : 1\n",
            "total number of word is : 31\n",
            "Total number of sentences is : 2\n",
            "total number of word is : 34\n",
            "Total number of sentences is : 3\n",
            "total number of word is : 29\n",
            "Total number of sentences is : 4\n",
            "total number of word is : 35\n",
            "Total number of sentences is : 3\n",
            "total number of word is : 53\n",
            "Total number of sentences is : 4\n",
            "total number of word is : 88\n",
            "Total number of sentences is : 7\n",
            "total number of word is : 73\n",
            "Total number of sentences is : 4\n",
            "total number of word is : 88\n",
            "Total number of sentences is : 7\n",
            "total number of word is : 90\n",
            "Total number of sentences is : 5\n",
            "total number of word is : 49\n",
            "Total number of sentences is : 2\n",
            "total number of word is : 73\n",
            "Total number of sentences is : 6\n",
            "total number of word is : 59\n",
            "Total number of sentences is : 4\n",
            "total number of word is : 22\n",
            "Total number of sentences is : 2\n",
            "total number of word is : 20\n",
            "Total number of sentences is : 3\n",
            "total number of word is : 36\n",
            "Total number of sentences is : 3\n",
            "total number of word is : 6\n",
            "Total number of sentences is : 1\n",
            "total number of word is : 78\n",
            "Total number of sentences is : 5\n",
            "total number of word is : 174\n",
            "Total number of sentences is : 11\n",
            "total number of word is : 62\n",
            "Total number of sentences is : 7\n",
            "total number of word is : 55\n",
            "Total number of sentences is : 5\n",
            "total number of word is : 39\n",
            "Total number of sentences is : 3\n",
            "total number of word is : 42\n",
            "Total number of sentences is : 4\n",
            "total number of word is : 65\n",
            "Total number of sentences is : 4\n",
            "total number of word is : 40\n",
            "Total number of sentences is : 3\n",
            "total number of word is : 82\n",
            "Total number of sentences is : 6\n",
            "total number of word is : 105\n",
            "Total number of sentences is : 9\n",
            "total number of word is : 86\n",
            "Total number of sentences is : 6\n",
            "total number of word is : 72\n",
            "Total number of sentences is : 5\n",
            "total number of word is : 72\n",
            "Total number of sentences is : 6\n",
            "total number of word is : 84\n",
            "Total number of sentences is : 6\n",
            "total number of word is : 78\n",
            "Total number of sentences is : 6\n",
            "total number of word is : 99\n",
            "Total number of sentences is : 7\n",
            "total number of word is : 92\n",
            "Total number of sentences is : 7\n",
            "total number of word is : 70\n",
            "Total number of sentences is : 6\n",
            "total number of word is : 76\n",
            "Total number of sentences is : 7\n",
            "total number of word is : 77\n",
            "Total number of sentences is : 6\n",
            "total number of word is : 88\n",
            "Total number of sentences is : 7\n",
            "total number of word is : 33\n",
            "Total number of sentences is : 2\n",
            "total number of word is : 91\n",
            "Total number of sentences is : 6\n",
            "total number of word is : 75\n",
            "Total number of sentences is : 7\n",
            "total number of word is : 64\n",
            "Total number of sentences is : 7\n",
            "total number of word is : 46\n",
            "Total number of sentences is : 3\n",
            "total number of word is : 63\n",
            "Total number of sentences is : 5\n",
            "total number of word is : 82\n",
            "Total number of sentences is : 6\n",
            "total number of word is : 77\n",
            "Total number of sentences is : 6\n",
            "total number of word is : 104\n",
            "Total number of sentences is : 6\n",
            "total number of word is : 76\n",
            "Total number of sentences is : 7\n",
            "total number of word is : 99\n",
            "Total number of sentences is : 8\n",
            "total number of word is : 76\n",
            "Total number of sentences is : 7\n",
            "total number of word is : 96\n",
            "Total number of sentences is : 5\n",
            "total number of word is : 67\n",
            "Total number of sentences is : 6\n",
            "total number of word is : 78\n",
            "Total number of sentences is : 7\n",
            "total number of word is : 82\n",
            "Total number of sentences is : 6\n",
            "total number of word is : 91\n",
            "Total number of sentences is : 7\n",
            "total number of word is : 70\n",
            "Total number of sentences is : 6\n",
            "total number of word is : 58\n",
            "Total number of sentences is : 5\n",
            "total number of word is : 72\n",
            "Total number of sentences is : 4\n",
            "total number of word is : 55\n",
            "Total number of sentences is : 5\n",
            "total number of word is : 81\n",
            "Total number of sentences is : 8\n",
            "total number of word is : 114\n",
            "Total number of sentences is : 7\n",
            "total number of word is : 85\n",
            "Total number of sentences is : 5\n",
            "total number of word is : 75\n",
            "Total number of sentences is : 6\n",
            "total number of word is : 100\n",
            "Total number of sentences is : 6\n",
            "total number of word is : 90\n",
            "Total number of sentences is : 6\n",
            "total number of word is : 80\n",
            "Total number of sentences is : 6\n",
            "total number of word is : 77\n",
            "Total number of sentences is : 6\n",
            "total number of word is : 69\n",
            "Total number of sentences is : 6\n",
            "total number of word is : 64\n",
            "Total number of sentences is : 6\n",
            "total number of word is : 64\n",
            "Total number of sentences is : 7\n",
            "total number of word is : 80\n",
            "Total number of sentences is : 6\n",
            "total number of word is : 82\n",
            "Total number of sentences is : 8\n",
            "total number of word is : 84\n",
            "Total number of sentences is : 7\n",
            "total number of word is : 62\n",
            "Total number of sentences is : 5\n",
            "total number of word is : 53\n",
            "Total number of sentences is : 3\n",
            "total number of word is : 61\n",
            "Total number of sentences is : 5\n",
            "total number of word is : 82\n",
            "Total number of sentences is : 7\n",
            "total number of word is : 73\n",
            "Total number of sentences is : 7\n",
            "total number of word is : 81\n",
            "Total number of sentences is : 6\n",
            "total number of word is : 86\n",
            "Total number of sentences is : 7\n",
            "total number of word is : 68\n",
            "Total number of sentences is : 7\n",
            "total number of word is : 69\n",
            "Total number of sentences is : 5\n",
            "total number of word is : 111\n",
            "Total number of sentences is : 7\n",
            "total number of word is : 68\n",
            "Total number of sentences is : 4\n",
            "total number of word is : 65\n",
            "Total number of sentences is : 5\n",
            "total number of word is : 59\n",
            "Total number of sentences is : 6\n",
            "total number of word is : 112\n",
            "Total number of sentences is : 7\n",
            "total number of word is : 91\n",
            "Total number of sentences is : 9\n",
            "total number of word is : 70\n",
            "Total number of sentences is : 6\n",
            "total number of word is : 70\n",
            "Total number of sentences is : 6\n",
            "total number of word is : 160\n",
            "Total number of sentences is : 8\n",
            "total number of word is : 89\n",
            "Total number of sentences is : 7\n",
            "total number of word is : 103\n",
            "Total number of sentences is : 7\n",
            "total number of word is : 83\n",
            "Total number of sentences is : 5\n",
            "total number of word is : 99\n",
            "Total number of sentences is : 7\n",
            "total number of word is : 110\n",
            "Total number of sentences is : 8\n",
            "total number of word is : 83\n",
            "Total number of sentences is : 4\n",
            "total number of word is : 71\n",
            "Total number of sentences is : 3\n",
            "total number of word is : 88\n",
            "Total number of sentences is : 5\n",
            "total number of word is : 40\n",
            "Total number of sentences is : 2\n",
            "total number of word is : 83\n",
            "Total number of sentences is : 4\n",
            "total number of word is : 87\n",
            "Total number of sentences is : 5\n",
            "total number of word is : 112\n",
            "Total number of sentences is : 10\n",
            "total number of word is : 55\n",
            "Total number of sentences is : 10\n",
            "total number of word is : 56\n",
            "Total number of sentences is : 10\n",
            "total number of word is : 117\n",
            "Total number of sentences is : 9\n",
            "total number of word is : 30\n",
            "Total number of sentences is : 4\n",
            "total number of word is : 30\n",
            "Total number of sentences is : 4\n",
            "total number of word is : 23\n",
            "Total number of sentences is : 3\n",
            "total number of word is : 36\n",
            "Total number of sentences is : 4\n",
            "total number of word is : 61\n",
            "Total number of sentences is : 6\n",
            "total number of word is : 36\n",
            "Total number of sentences is : 3\n",
            "total number of word is : 58\n",
            "Total number of sentences is : 4\n",
            "total number of word is : 66\n",
            "Total number of sentences is : 6\n",
            "total number of word is : 63\n",
            "Total number of sentences is : 7\n",
            "total number of word is : 58\n",
            "Total number of sentences is : 6\n",
            "total number of word is : 62\n",
            "Total number of sentences is : 6\n",
            "total number of word is : 48\n",
            "Total number of sentences is : 6\n",
            "total number of word is : 45\n",
            "Total number of sentences is : 5\n",
            "total number of word is : 49\n",
            "Total number of sentences is : 6\n",
            "total number of word is : 61\n",
            "Total number of sentences is : 6\n",
            "total number of word is : 48\n",
            "Total number of sentences is : 5\n",
            "total number of word is : 45\n",
            "Total number of sentences is : 4\n",
            "total number of word is : 63\n",
            "Total number of sentences is : 5\n",
            "total number of word is : 47\n",
            "Total number of sentences is : 5\n",
            "total number of word is : 62\n",
            "Total number of sentences is : 7\n",
            "total number of word is : 89\n",
            "Total number of sentences is : 7\n",
            "total number of word is : 85\n",
            "Total number of sentences is : 8\n",
            "total number of word is : 99\n",
            "Total number of sentences is : 10\n",
            "total number of word is : 88\n",
            "Total number of sentences is : 8\n",
            "total number of word is : 46\n",
            "Total number of sentences is : 4\n",
            "total number of word is : 68\n",
            "Total number of sentences is : 5\n",
            "total number of word is : 66\n",
            "Total number of sentences is : 4\n",
            "total number of word is : 57\n",
            "Total number of sentences is : 4\n",
            "total number of word is : 84\n",
            "Total number of sentences is : 5\n",
            "total number of word is : 47\n",
            "Total number of sentences is : 6\n",
            "total number of word is : 42\n",
            "Total number of sentences is : 4\n",
            "total number of word is : 51\n",
            "Total number of sentences is : 5\n",
            "total number of word is : 69\n",
            "Total number of sentences is : 7\n",
            "total number of word is : 68\n",
            "Total number of sentences is : 7\n",
            "total number of word is : 73\n",
            "Total number of sentences is : 7\n",
            "total number of word is : 80\n",
            "Total number of sentences is : 7\n",
            "total number of word is : 63\n",
            "Total number of sentences is : 6\n",
            "total number of word is : 59\n",
            "Total number of sentences is : 6\n",
            "total number of word is : 61\n",
            "Total number of sentences is : 5\n",
            "total number of word is : 52\n",
            "Total number of sentences is : 5\n",
            "total number of word is : 77\n",
            "Total number of sentences is : 7\n",
            "total number of word is : 58\n",
            "Total number of sentences is : 7\n",
            "total number of word is : 59\n",
            "Total number of sentences is : 6\n",
            "total number of word is : 59\n",
            "Total number of sentences is : 7\n",
            "total number of word is : 55\n",
            "Total number of sentences is : 5\n",
            "total number of word is : 75\n",
            "Total number of sentences is : 9\n",
            "total number of word is : 71\n",
            "Total number of sentences is : 9\n",
            "total number of word is : 66\n",
            "Total number of sentences is : 9\n",
            "total number of word is : 60\n",
            "Total number of sentences is : 7\n",
            "total number of word is : 98\n",
            "Total number of sentences is : 9\n",
            "total number of word is : 79\n",
            "Total number of sentences is : 8\n",
            "total number of word is : 65\n",
            "Total number of sentences is : 7\n",
            "total number of word is : 59\n",
            "Total number of sentences is : 8\n",
            "total number of word is : 69\n",
            "Total number of sentences is : 7\n",
            "total number of word is : 75\n",
            "Total number of sentences is : 8\n",
            "total number of word is : 74\n",
            "Total number of sentences is : 7\n",
            "total number of word is : 68\n",
            "Total number of sentences is : 7\n",
            "total number of word is : 95\n",
            "Total number of sentences is : 10\n",
            "total number of word is : 64\n",
            "Total number of sentences is : 7\n",
            "total number of word is : 50\n",
            "Total number of sentences is : 7\n",
            "total number of word is : 77\n",
            "Total number of sentences is : 10\n",
            "total number of word is : 63\n",
            "Total number of sentences is : 7\n",
            "total number of word is : 57\n",
            "Total number of sentences is : 9\n",
            "total number of word is : 138\n",
            "Total number of sentences is : 11\n",
            "total number of word is : 47\n",
            "Total number of sentences is : 6\n",
            "total number of word is : 55\n",
            "Total number of sentences is : 9\n",
            "total number of word is : 53\n",
            "Total number of sentences is : 7\n",
            "total number of word is : 57\n",
            "Total number of sentences is : 5\n",
            "total number of word is : 57\n",
            "Total number of sentences is : 4\n",
            "total number of word is : 24\n",
            "Total number of sentences is : 3\n",
            "total number of word is : 36\n",
            "Total number of sentences is : 6\n",
            "total number of word is : 25\n",
            "Total number of sentences is : 4\n",
            "total number of word is : 91\n",
            "Total number of sentences is : 6\n",
            "total number of word is : 93\n",
            "Total number of sentences is : 7\n",
            "total number of word is : 81\n",
            "Total number of sentences is : 10\n",
            "total number of word is : 68\n",
            "Total number of sentences is : 6\n",
            "total number of word is : 79\n",
            "Total number of sentences is : 11\n",
            "total number of word is : 87\n",
            "Total number of sentences is : 11\n",
            "total number of word is : 81\n",
            "Total number of sentences is : 11\n",
            "total number of word is : 92\n",
            "Total number of sentences is : 9\n",
            "total number of word is : 137\n",
            "Total number of sentences is : 13\n",
            "total number of word is : 97\n",
            "Total number of sentences is : 11\n",
            "total number of word is : 68\n",
            "Total number of sentences is : 7\n",
            "total number of word is : 97\n",
            "Total number of sentences is : 11\n",
            "total number of word is : 85\n",
            "Total number of sentences is : 10\n",
            "total number of word is : 95\n",
            "Total number of sentences is : 12\n",
            "total number of word is : 101\n",
            "Total number of sentences is : 7\n",
            "total number of word is : 61\n",
            "Total number of sentences is : 7\n",
            "total number of word is : 83\n",
            "Total number of sentences is : 8\n",
            "total number of word is : 41\n",
            "Total number of sentences is : 5\n",
            "total number of word is : 101\n",
            "Total number of sentences is : 11\n",
            "total number of word is : 91\n",
            "Total number of sentences is : 10\n",
            "total number of word is : 82\n",
            "Total number of sentences is : 10\n",
            "total number of word is : 81\n",
            "Total number of sentences is : 11\n",
            "total number of word is : 91\n",
            "Total number of sentences is : 11\n",
            "total number of word is : 101\n",
            "Total number of sentences is : 12\n",
            "total number of word is : 100\n",
            "Total number of sentences is : 11\n",
            "total number of word is : 59\n",
            "Total number of sentences is : 4\n",
            "total number of word is : 104\n",
            "Total number of sentences is : 6\n",
            "total number of word is : 101\n",
            "Total number of sentences is : 6\n",
            "total number of word is : 127\n",
            "Total number of sentences is : 8\n",
            "total number of word is : 77\n",
            "Total number of sentences is : 5\n",
            "total number of word is : 89\n",
            "Total number of sentences is : 6\n",
            "total number of word is : 94\n",
            "Total number of sentences is : 6\n",
            "total number of word is : 88\n",
            "Total number of sentences is : 6\n",
            "total number of word is : 104\n",
            "Total number of sentences is : 6\n",
            "total number of word is : 75\n",
            "Total number of sentences is : 4\n",
            "total number of word is : 65\n",
            "Total number of sentences is : 6\n",
            "total number of word is : 28\n",
            "Total number of sentences is : 3\n",
            "total number of word is : 23\n",
            "Total number of sentences is : 4\n",
            "total number of word is : 44\n",
            "Total number of sentences is : 9\n",
            "total number of word is : 52\n",
            "Total number of sentences is : 10\n",
            "total number of word is : 54\n",
            "Total number of sentences is : 9\n",
            "total number of word is : 63\n",
            "Total number of sentences is : 11\n",
            "total number of word is : 45\n",
            "Total number of sentences is : 8\n",
            "total number of word is : 59\n",
            "Total number of sentences is : 11\n",
            "total number of word is : 51\n",
            "Total number of sentences is : 11\n",
            "total number of word is : 63\n",
            "Total number of sentences is : 11\n",
            "total number of word is : 54\n",
            "Total number of sentences is : 10\n",
            "total number of word is : 59\n",
            "Total number of sentences is : 4\n",
            "total number of word is : 77\n",
            "Total number of sentences is : 5\n",
            "total number of word is : 66\n",
            "Total number of sentences is : 4\n",
            "total number of word is : 83\n",
            "Total number of sentences is : 4\n",
            "total number of word is : 77\n",
            "Total number of sentences is : 5\n",
            "total number of word is : 56\n",
            "Total number of sentences is : 5\n",
            "total number of word is : 66\n",
            "Total number of sentences is : 4\n",
            "total number of word is : 88\n",
            "Total number of sentences is : 6\n",
            "total number of word is : 98\n",
            "Total number of sentences is : 5\n",
            "total number of word is : 91\n",
            "Total number of sentences is : 5\n",
            "total number of word is : 64\n",
            "Total number of sentences is : 4\n",
            "total number of word is : 71\n",
            "Total number of sentences is : 4\n",
            "total number of word is : 80\n",
            "Total number of sentences is : 5\n",
            "total number of word is : 67\n",
            "Total number of sentences is : 4\n",
            "total number of word is : 71\n",
            "Total number of sentences is : 4\n",
            "total number of word is : 83\n",
            "Total number of sentences is : 5\n",
            "total number of word is : 74\n",
            "Total number of sentences is : 5\n",
            "total number of word is : 93\n",
            "Total number of sentences is : 5\n",
            "total number of word is : 70\n",
            "Total number of sentences is : 4\n",
            "total number of word is : 95\n",
            "Total number of sentences is : 5\n",
            "total number of word is : 90\n",
            "Total number of sentences is : 2\n",
            "total number of word is : 78\n",
            "Total number of sentences is : 5\n",
            "total number of word is : 89\n",
            "Total number of sentences is : 4\n",
            "total number of word is : 47\n",
            "Total number of sentences is : 4\n",
            "total number of word is : 68\n",
            "Total number of sentences is : 5\n",
            "total number of word is : 62\n",
            "Total number of sentences is : 3\n",
            "total number of word is : 81\n",
            "Total number of sentences is : 8\n",
            "total number of word is : 90\n",
            "Total number of sentences is : 9\n",
            "total number of word is : 84\n",
            "Total number of sentences is : 8\n",
            "total number of word is : 92\n",
            "Total number of sentences is : 12\n",
            "total number of word is : 50\n",
            "Total number of sentences is : 5\n",
            "total number of word is : 48\n",
            "Total number of sentences is : 4\n",
            "total number of word is : 43\n",
            "Total number of sentences is : 3\n",
            "total number of word is : 28\n",
            "Total number of sentences is : 2\n",
            "total number of word is : 55\n",
            "Total number of sentences is : 4\n",
            "total number of word is : 40\n",
            "Total number of sentences is : 4\n",
            "total number of word is : 36\n",
            "Total number of sentences is : 3\n",
            "total number of word is : 54\n",
            "Total number of sentences is : 6\n",
            "total number of word is : 58\n",
            "Total number of sentences is : 6\n",
            "total number of word is : 71\n",
            "Total number of sentences is : 7\n",
            "total number of word is : 50\n",
            "Total number of sentences is : 5\n",
            "total number of word is : 41\n",
            "Total number of sentences is : 4\n",
            "total number of word is : 57\n",
            "Total number of sentences is : 6\n",
            "total number of word is : 48\n",
            "Total number of sentences is : 5\n",
            "total number of word is : 63\n",
            "Total number of sentences is : 5\n",
            "total number of word is : 39\n",
            "Total number of sentences is : 4\n",
            "total number of word is : 46\n",
            "Total number of sentences is : 4\n",
            "total number of word is : 44\n",
            "Total number of sentences is : 4\n",
            "total number of word is : 89\n",
            "Total number of sentences is : 7\n",
            "total number of word is : 67\n",
            "Total number of sentences is : 6\n",
            "total number of word is : 59\n",
            "Total number of sentences is : 5\n",
            "total number of word is : 66\n",
            "Total number of sentences is : 6\n",
            "total number of word is : 58\n",
            "Total number of sentences is : 4\n",
            "total number of word is : 76\n",
            "Total number of sentences is : 6\n",
            "total number of word is : 55\n",
            "Total number of sentences is : 4\n",
            "total number of word is : 56\n",
            "Total number of sentences is : 3\n",
            "total number of word is : 73\n",
            "Total number of sentences is : 4\n",
            "total number of word is : 61\n",
            "Total number of sentences is : 5\n",
            "total number of word is : 83\n",
            "Total number of sentences is : 6\n",
            "total number of word is : 62\n",
            "Total number of sentences is : 4\n",
            "total number of word is : 90\n",
            "Total number of sentences is : 12\n",
            "total number of word is : 84\n",
            "Total number of sentences is : 9\n",
            "total number of word is : 63\n",
            "Total number of sentences is : 8\n",
            "total number of word is : 65\n",
            "Total number of sentences is : 6\n",
            "total number of word is : 59\n",
            "Total number of sentences is : 4\n",
            "total number of word is : 68\n",
            "Total number of sentences is : 6\n"
          ],
          "name": "stdout"
        }
      ]
    },
    {
      "cell_type": "code",
      "metadata": {
        "id": "QrIqcWCElBji"
      },
      "source": [
        "tf_score = {}\n",
        "key_word =[]\n",
        "for i in range(df.shape[0]):\n",
        "  doc = df['How to make or use'][i]\n",
        "  total_words = doc.split()\n",
        "  for each_word in total_words:\n",
        "    each_word = each_word.replace('.','')\n",
        "    if each_word not in stop_words:\n",
        "      if each_word in tf_score:\n",
        "        tf_score[each_word] += 1\n",
        "      else:\n",
        "        tf_score[each_word] = 1\n",
        "\n",
        "  # Dividing by total_word_length for each dictionary element\n",
        "  tf_score.update((x, y/int(total_word_length)) for x, y in tf_score.items())\n",
        "  idf_score = {}\n",
        "  for each_word in total_words:\n",
        "    each_word = each_word.replace('.','')\n",
        "    if each_word not in stop_words:\n",
        "        if each_word in idf_score:\n",
        "            idf_score[each_word] += check_sent(each_word, total_sentences)\n",
        "        else:\n",
        "            idf_score[each_word] = 1\n",
        "\n",
        "  # Performing a log and divide\n",
        "  idf_score.update((x, math.log(int(total_sent_len)/y)) for x, y in idf_score.items())\n",
        "  tf_idf_score = {key: tf_score[key] * idf_score.get(key, 0) for key in tf_score.keys()}\n",
        "  key_word.append(get_top_n(tf_idf_score, 1))\n"
      ],
      "execution_count": null,
      "outputs": []
    },
    {
      "cell_type": "code",
      "metadata": {
        "id": "vAZ8kF2cw3ur"
      },
      "source": [
        "tf_score = {}\n",
        "key_word_description =[]\n",
        "for i in range(df.shape[0]):\n",
        "  doc = df['description'][i]\n",
        "  total_words = doc.split()\n",
        "  for each_word in total_words:\n",
        "    each_word = each_word.replace('.','')\n",
        "    if each_word not in stop_words:\n",
        "      if each_word in tf_score:\n",
        "        tf_score[each_word] += 1\n",
        "      else:\n",
        "        tf_score[each_word] = 1\n",
        "\n",
        "  # Dividing by total_word_length for each dictionary element\n",
        "  tf_score.update((x, y/int(total_word_length)) for x, y in tf_score.items())\n",
        "  idf_score = {}\n",
        "  for each_word in total_words:\n",
        "    each_word = each_word.replace('.','')\n",
        "    if each_word not in stop_words:\n",
        "        if each_word in idf_score:\n",
        "            idf_score[each_word] += check_sent(each_word, total_sentences)\n",
        "        else:\n",
        "            idf_score[each_word] = 1\n",
        "\n",
        "  # Performing a log and divide\n",
        "  idf_score.update((x, math.log(int(total_sent_len)/y)) for x, y in idf_score.items())\n",
        "  tf_idf_score = {key: tf_score[key] * idf_score.get(key, 0) for key in tf_score.keys()}\n",
        "  key_word_description.append(get_top_n(tf_idf_score, 1))\n"
      ],
      "execution_count": null,
      "outputs": []
    },
    {
      "cell_type": "code",
      "metadata": {
        "id": "8-_vT4AOxWgI"
      },
      "source": [
        "kw_decription = []\n",
        "for i in range(df.shape[0]):\n",
        "  for x in key_word_description[i].keys():\n",
        "    kw_decription.append(x)"
      ],
      "execution_count": null,
      "outputs": []
    },
    {
      "cell_type": "code",
      "metadata": {
        "id": "m7gY7f6Sqxu9"
      },
      "source": [
        "kw = []\n",
        "for i in range(df.shape[0]):\n",
        "  for x in key_word[i].keys():\n",
        "    kw.append(x)"
      ],
      "execution_count": null,
      "outputs": []
    },
    {
      "cell_type": "code",
      "metadata": {
        "id": "KNO5Cixhrejk",
        "colab": {
          "base_uri": "https://localhost:8080/"
        },
        "outputId": "79e8852c-8832-479a-db19-9e82ec54aa0a"
      },
      "source": [
        "kw = np.array(kw)\n",
        "kw.shape"
      ],
      "execution_count": null,
      "outputs": [
        {
          "output_type": "execute_result",
          "data": {
            "text/plain": [
              "(536,)"
            ]
          },
          "metadata": {
            "tags": []
          },
          "execution_count": 18
        }
      ]
    },
    {
      "cell_type": "code",
      "metadata": {
        "id": "ZRr7t21Rxzqq",
        "colab": {
          "base_uri": "https://localhost:8080/"
        },
        "outputId": "4ab8e36f-9f40-4017-ad88-d99744ce809e"
      },
      "source": [
        "kw_decription = np.array(kw_decription)\n",
        "kw_decription.shape"
      ],
      "execution_count": null,
      "outputs": [
        {
          "output_type": "execute_result",
          "data": {
            "text/plain": [
              "(536,)"
            ]
          },
          "metadata": {
            "tags": []
          },
          "execution_count": 19
        }
      ]
    },
    {
      "cell_type": "code",
      "metadata": {
        "id": "h_MPED3mwXLC"
      },
      "source": [
        "from sklearn.preprocessing import OrdinalEncoder\n",
        "import numpy as np\n",
        "ordinal_encoder = OrdinalEncoder()\n",
        "kw = kw.reshape(-1,1)\n",
        "kw = ordinal_encoder.fit_transform(kw)\n",
        "kw_decription = kw_decription.reshape(-1,1)\n",
        "kw_decription = ordinal_encoder.fit_transform(kw_decription)\n"
      ],
      "execution_count": null,
      "outputs": []
    },
    {
      "cell_type": "code",
      "metadata": {
        "id": "_3DbRM2Sy-KQ"
      },
      "source": [
        "age =[]\n",
        "a = df['age'].value_counts()\n",
        "for x in  a.index:\n",
        "  age.append(x)"
      ],
      "execution_count": null,
      "outputs": []
    },
    {
      "cell_type": "code",
      "metadata": {
        "id": "kqlojLJrzZJW"
      },
      "source": [
        "for x in age:\n",
        "  if (x=='> 15') or (x=='>15') :\n",
        "    i=np.where(df['age']== '> 15')\n",
        "    i1=[[x for x in j]for j in i ]\n",
        "    df.iloc[i1,3]=np.array([17.5])\n",
        "  if x=='> 15' :\n",
        "    i=np.where(df['age']== '>15')\n",
        "    i1=[[x for x in j]for j in i ]\n",
        "    df.iloc[i1,3]=np.array([17.5])\n",
        "  if (x=='> 20') or (x=='>20') :\n",
        "    i=np.where(df['age']== '> 20')\n",
        "    i1=[[x for x in j]for j in i ]\n",
        "    df.iloc[i1,3]=np.array([25])\n",
        "  if (x=='> 20') or (x=='>20') or (x=='> 20`') :\n",
        "    i=np.where(df['age']== '>20')\n",
        "    i1=[[x for x in j]for j in i ]\n",
        "    df.iloc[i1,3]=np.array([25])\n",
        "  if (x=='> 20') or (x=='>20') or (x=='> 20`') :\n",
        "    i=np.where(df['age']== '> 20`')\n",
        "    i1=[[x for x in j]for j in i ]\n",
        "    df.iloc[i1,3]=np.array([25])\n",
        "  if (x=='> 20 ') :\n",
        "    i=np.where(df['age']== '> 20 ')\n",
        "    i1=[[x for x in j]for j in i ]\n",
        "    df.iloc[i1,3]=np.array([25])\n",
        "  if (x=='> 25') or (x=='>25') :\n",
        "    i=np.where(df['age']== '>25')\n",
        "    i1=[[x for x in j]for j in i ]\n",
        "    df.iloc[i1,3]=np.array([27.5])\n",
        "  if (x=='> 25') or (x=='>25') :\n",
        "    i=np.where(df['age']== '> 25')\n",
        "    i1=[[x for x in j]for j in i ]\n",
        "    df.iloc[i1,3]=np.array([27.5])\n",
        "  if (x=='> 30') or (x=='>30') :\n",
        "    i=np.where(df['age']== '>30')\n",
        "    i1=[[x for x in j]for j in i ]\n",
        "    df.iloc[i1,3]=np.array([32.5])\n",
        "  if (x=='> 30') or (x=='>30') :\n",
        "    i=np.where(df['age']== '> 30')\n",
        "    i1=[[x for x in j]for j in i ]\n",
        "    df.iloc[i1,3]=np.array([32.5])\n",
        "  if (x=='> 12') or (x=='>12') :\n",
        "    i=np.where(df['age']== '>12')\n",
        "    i1=[[x for x in j]for j in i ]\n",
        "    df.iloc[i1,3]=np.array([13.5])\n",
        "  if (x=='> 12') or (x=='>12') :\n",
        "    i=np.where(df['age']== '> 12')\n",
        "    i1=[[x for x in j]for j in i ]\n",
        "    df.iloc[i1,3]=np.array([13.5])\n",
        "\n"
      ],
      "execution_count": null,
      "outputs": []
    },
    {
      "cell_type": "code",
      "metadata": {
        "id": "BpRPEixg1q5N",
        "colab": {
          "base_uri": "https://localhost:8080/"
        },
        "outputId": "5ba02242-8ac6-4ead-cf14-00dad05043a1"
      },
      "source": [
        "df['age'].value_counts()"
      ],
      "execution_count": null,
      "outputs": [
        {
          "output_type": "execute_result",
          "data": {
            "text/plain": [
              "17.5    223\n",
              "25.0    207\n",
              "27.5     60\n",
              "32.5     29\n",
              "13.5     17\n",
              "Name: age, dtype: int64"
            ]
          },
          "metadata": {
            "tags": []
          },
          "execution_count": 23
        }
      ]
    },
    {
      "cell_type": "code",
      "metadata": {
        "id": "LRNbyqgW3o2F",
        "colab": {
          "base_uri": "https://localhost:8080/"
        },
        "outputId": "7542229d-af2f-468e-b713-119dc4fd852b"
      },
      "source": [
        "df['label'].value_counts()"
      ],
      "execution_count": null,
      "outputs": [
        {
          "output_type": "execute_result",
          "data": {
            "text/plain": [
              "face mask       336\n",
              "treatment        38\n",
              "cleanser         31\n",
              "oil              31\n",
              "rejuvenation     30\n",
              "scrub            24\n",
              "exfoliator       24\n",
              "toner            17\n",
              "peel mask         2\n",
              "night cream       1\n",
              "serum             1\n",
              "cream             1\n",
              "Name: label, dtype: int64"
            ]
          },
          "metadata": {
            "tags": []
          },
          "execution_count": 24
        }
      ]
    },
    {
      "cell_type": "code",
      "metadata": {
        "id": "VGtIHt8xhRj4"
      },
      "source": [
        "from sklearn.preprocessing import OrdinalEncoder\n",
        "import numpy as np\n",
        "ordinal_encoder = OrdinalEncoder()\n",
        "target1=np.array(df['label'])\n",
        "target1=target1.reshape(-1,1)\n",
        "target_ordinal= ordinal_encoder.fit_transform(target1)\n",
        "target_ordinal = target_ordinal.ravel()\n"
      ],
      "execution_count": null,
      "outputs": []
    },
    {
      "cell_type": "code",
      "metadata": {
        "id": "cguxIefPgHVz",
        "colab": {
          "base_uri": "https://localhost:8080/"
        },
        "outputId": "4e349a0e-92cd-459a-c536-96afcde16aba"
      },
      "source": [
        "\n",
        "target=pd.get_dummies(df['label'], prefix_sep='_', drop_first=False)\n",
        "target=np.array(target)\n",
        "print(target.shape)\n"
      ],
      "execution_count": null,
      "outputs": [
        {
          "output_type": "stream",
          "text": [
            "(536, 12)\n"
          ],
          "name": "stdout"
        }
      ]
    },
    {
      "cell_type": "code",
      "metadata": {
        "id": "ISb7zVzYgu35"
      },
      "source": [
        "target_frame = pd.DataFrame(target)"
      ],
      "execution_count": null,
      "outputs": []
    },
    {
      "cell_type": "code",
      "metadata": {
        "id": "Y3F8UhsVgnl8",
        "colab": {
          "base_uri": "https://localhost:8080/"
        },
        "outputId": "2a2f7c05-413d-4304-aa97-48598b4ff120"
      },
      "source": [
        "target_frame.value_counts()"
      ],
      "execution_count": null,
      "outputs": [
        {
          "output_type": "execute_result",
          "data": {
            "text/plain": [
              "0  1  2  3  4  5  6  7  8  9  10  11\n",
              "0  0  0  1  0  0  0  0  0  0  0   0     336\n",
              "         0  0  0  0  0  0  0  0   1      38\n",
              "1  0  0  0  0  0  0  0  0  0  0   0      31\n",
              "0  0  0  0  0  1  0  0  0  0  0   0      31\n",
              "               0  0  1  0  0  0   0      30\n",
              "      1  0  0  0  0  0  0  0  0   0      24\n",
              "      0  0  0  0  0  0  1  0  0   0      24\n",
              "                        0  0  1   0      17\n",
              "                  1  0  0  0  0   0       2\n",
              "   1  0  0  0  0  0  0  0  0  0   0       1\n",
              "   0  0  0  1  0  0  0  0  0  0   0       1\n",
              "            0  0  0  0  0  1  0   0       1\n",
              "dtype: int64"
            ]
          },
          "metadata": {
            "tags": []
          },
          "execution_count": 28
        }
      ]
    },
    {
      "cell_type": "code",
      "metadata": {
        "id": "QNNx_64d3zNb"
      },
      "source": [
        "df['How to make or use'] =kw\n",
        "df['description']=kw_decription"
      ],
      "execution_count": null,
      "outputs": []
    },
    {
      "cell_type": "code",
      "metadata": {
        "id": "NBQy-vi64GzX"
      },
      "source": [
        "df['age'] = df['age'].astype('float32')"
      ],
      "execution_count": null,
      "outputs": []
    },
    {
      "cell_type": "code",
      "metadata": {
        "id": "RWi3o9um3_wW"
      },
      "source": [
        "df1 = df.drop('label',axis=1)"
      ],
      "execution_count": null,
      "outputs": []
    },
    {
      "cell_type": "code",
      "metadata": {
        "id": "ckKIsWWw3u5H",
        "colab": {
          "base_uri": "https://localhost:8080/"
        },
        "outputId": "5c5cb36f-94b3-4830-aba8-c2f728bab182"
      },
      "source": [
        "!pip install category_encoders\n"
      ],
      "execution_count": null,
      "outputs": [
        {
          "output_type": "stream",
          "text": [
            "Collecting category_encoders\n",
            "\u001b[?25l  Downloading https://files.pythonhosted.org/packages/44/57/fcef41c248701ee62e8325026b90c432adea35555cbc870aff9cfba23727/category_encoders-2.2.2-py2.py3-none-any.whl (80kB)\n",
            "\r\u001b[K     |████                            | 10kB 13.7MB/s eta 0:00:01\r\u001b[K     |████████▏                       | 20kB 8.0MB/s eta 0:00:01\r\u001b[K     |████████████▏                   | 30kB 5.6MB/s eta 0:00:01\r\u001b[K     |████████████████▎               | 40kB 5.3MB/s eta 0:00:01\r\u001b[K     |████████████████████▎           | 51kB 2.7MB/s eta 0:00:01\r\u001b[K     |████████████████████████▍       | 61kB 2.9MB/s eta 0:00:01\r\u001b[K     |████████████████████████████▍   | 71kB 3.2MB/s eta 0:00:01\r\u001b[K     |████████████████████████████████| 81kB 2.6MB/s \n",
            "\u001b[?25hRequirement already satisfied: scikit-learn>=0.20.0 in /usr/local/lib/python3.7/dist-packages (from category_encoders) (0.22.2.post1)\n",
            "Requirement already satisfied: patsy>=0.5.1 in /usr/local/lib/python3.7/dist-packages (from category_encoders) (0.5.1)\n",
            "Requirement already satisfied: pandas>=0.21.1 in /usr/local/lib/python3.7/dist-packages (from category_encoders) (1.1.5)\n",
            "Requirement already satisfied: numpy>=1.14.0 in /usr/local/lib/python3.7/dist-packages (from category_encoders) (1.19.5)\n",
            "Requirement already satisfied: scipy>=1.0.0 in /usr/local/lib/python3.7/dist-packages (from category_encoders) (1.4.1)\n",
            "Requirement already satisfied: statsmodels>=0.9.0 in /usr/local/lib/python3.7/dist-packages (from category_encoders) (0.10.2)\n",
            "Requirement already satisfied: joblib>=0.11 in /usr/local/lib/python3.7/dist-packages (from scikit-learn>=0.20.0->category_encoders) (1.0.1)\n",
            "Requirement already satisfied: six in /usr/local/lib/python3.7/dist-packages (from patsy>=0.5.1->category_encoders) (1.15.0)\n",
            "Requirement already satisfied: pytz>=2017.2 in /usr/local/lib/python3.7/dist-packages (from pandas>=0.21.1->category_encoders) (2018.9)\n",
            "Requirement already satisfied: python-dateutil>=2.7.3 in /usr/local/lib/python3.7/dist-packages (from pandas>=0.21.1->category_encoders) (2.8.1)\n",
            "Installing collected packages: category-encoders\n",
            "Successfully installed category-encoders-2.2.2\n"
          ],
          "name": "stdout"
        }
      ]
    },
    {
      "cell_type": "code",
      "metadata": {
        "id": "YupYfhsR4vSs",
        "colab": {
          "base_uri": "https://localhost:8080/"
        },
        "outputId": "1be23e34-4a28-4589-dd65-e77e14662ed2"
      },
      "source": [
        "\n",
        "import category_encoders as ce\n",
        "c5=df1.columns\n",
        "encoder5 = ce.TargetEncoder(cols=[x for x in c5])\n",
        "\n",
        "target_encoder_all= encoder5.fit_transform(df1,target_ordinal)"
      ],
      "execution_count": null,
      "outputs": [
        {
          "output_type": "stream",
          "text": [
            "/usr/local/lib/python3.7/dist-packages/statsmodels/tools/_testing.py:19: FutureWarning: pandas.util.testing is deprecated. Use the functions in the public API at pandas.testing instead.\n",
            "  import pandas.util.testing as tm\n",
            "/usr/local/lib/python3.7/dist-packages/category_encoders/utils.py:21: FutureWarning: is_categorical is deprecated and will be removed in a future version.  Use is_categorical_dtype instead\n",
            "  elif pd.api.types.is_categorical(cols):\n"
          ],
          "name": "stderr"
        }
      ]
    },
    {
      "cell_type": "code",
      "metadata": {
        "id": "t0iC7xj_5sgZ",
        "colab": {
          "base_uri": "https://localhost:8080/",
          "height": 946
        },
        "outputId": "3587fa30-4455-4638-96ea-58dd07279475"
      },
      "source": [
        "import matplotlib.pyplot as plt\n",
        "import seaborn as sns\n",
        "\n",
        "plt.figure(figsize=(11, 11))\n",
        "plt.title('correlation between each features')\n",
        "corr =target_encoder_all.corr()\n",
        "ax = sns.heatmap(\n",
        "    corr,\n",
        "    vmin=-1, vmax=1, center=0,\n",
        "    cmap=sns.diverging_palette(20, 220, n=200),\n",
        "    square=True\n",
        ")\n",
        "ax.set_xticklabels(\n",
        "    ax.get_xticklabels(),\n",
        "    rotation=45,\n",
        "    horizontalalignment='right'\n",
        ")"
      ],
      "execution_count": null,
      "outputs": [
        {
          "output_type": "execute_result",
          "data": {
            "text/plain": [
              "[Text(0.5, 0, 'name'),\n",
              " Text(1.5, 0, 'description'),\n",
              " Text(2.5, 0, 'age'),\n",
              " Text(3.5, 0, 'Target1'),\n",
              " Text(4.5, 0, 'Target2'),\n",
              " Text(5.5, 0, 'Target3'),\n",
              " Text(6.5, 0, 'dry'),\n",
              " Text(7.5, 0, 'oily '),\n",
              " Text(8.5, 0, 'normal'),\n",
              " Text(9.5, 0, 'sensitive'),\n",
              " Text(10.5, 0, 'clear'),\n",
              " Text(11.5, 0, 'almost clear'),\n",
              " Text(12.5, 0, 'mild'),\n",
              " Text(13.5, 0, 'moderate'),\n",
              " Text(14.5, 0, 'severe'),\n",
              " Text(15.5, 0, 'How to make or use')]"
            ]
          },
          "metadata": {
            "tags": []
          },
          "execution_count": 34
        },
        {
          "output_type": "display_data",
          "data": {
            "image/png": "[encoded data removed]",
            "text/plain": [
              "<Figure size 792x792 with 2 Axes>"
            ]
          },
          "metadata": {
            "tags": [],
            "needs_background": "light"
          }
        }
      ]
    },
    {
      "cell_type": "code",
      "metadata": {
        "id": "Z4KVUS-15UJS",
        "colab": {
          "base_uri": "https://localhost:8080/"
        },
        "outputId": "475a4fbc-b17d-46ca-f0d4-842d3dbb642b"
      },
      "source": [
        "from xgboost import XGBClassifier\n",
        "from sklearn.model_selection import train_test_split\n",
        "from sklearn.metrics import accuracy_score\n",
        "\n",
        "\n",
        "X=target_encoder_all\n",
        "y=target_ordinal\n",
        "print(X.shape,y.shape)\n",
        "\n",
        "X_train, X_test, y_train, y_test = train_test_split(X, y, test_size=0.20, random_state=21)\n"
      ],
      "execution_count": null,
      "outputs": [
        {
          "output_type": "stream",
          "text": [
            "(536, 16) (536,)\n"
          ],
          "name": "stdout"
        }
      ]
    },
    {
      "cell_type": "code",
      "metadata": {
        "id": "cWhUOpA46e6k",
        "colab": {
          "base_uri": "https://localhost:8080/"
        },
        "outputId": "36de4932-1e7e-4388-b27f-5942e5ac1508"
      },
      "source": [
        "model = XGBClassifier()\n",
        "model.fit(X_train, y_train)\n",
        "y_pred_train = model.predict(X_train)\n",
        "y_pred = model.predict(X_test)\n",
        "accuracy_train = accuracy_score(y_train, y_pred_train)\n",
        "accuracy = accuracy_score(y_test, y_pred)\n",
        "print(\"Accuracy: %.2f%%\" % (accuracy * 100.0))\n",
        "print(\"Accuracy train: %.2f%%\" % (accuracy_train * 100.0))\n"
      ],
      "execution_count": null,
      "outputs": [
        {
          "output_type": "stream",
          "text": [
            "Accuracy: 68.52%\n",
            "Accuracy train: 88.79%\n"
          ],
          "name": "stdout"
        }
      ]
    },
    {
      "cell_type": "code",
      "metadata": {
        "id": "ckA2ZJXy6hFg",
        "colab": {
          "base_uri": "https://localhost:8080/"
        },
        "outputId": "7e9df9b4-4ca8-4a97-f0aa-05116b55ac28"
      },
      "source": [
        "from imblearn.under_sampling import TomekLinks\n",
        "\n",
        "tl = TomekLinks(return_indices=True, ratio='majority')\n",
        "X_tl, y_tl, id_tl = tl.fit_sample(X, y)\n",
        "\n"
      ],
      "execution_count": null,
      "outputs": [
        {
          "output_type": "stream",
          "text": [
            "/usr/local/lib/python3.7/dist-packages/sklearn/externals/six.py:31: FutureWarning: The module is deprecated in version 0.21 and will be removed in version 0.23 since we've dropped support for Python 2.7. Please rely on the official version of six (https://pypi.org/project/six/).\n",
            "  \"(https://pypi.org/project/six/).\", FutureWarning)\n",
            "/usr/local/lib/python3.7/dist-packages/sklearn/utils/deprecation.py:144: FutureWarning: The sklearn.neighbors.base module is  deprecated in version 0.22 and will be removed in version 0.24. The corresponding classes / functions should instead be imported from sklearn.neighbors. Anything that cannot be imported from sklearn.neighbors is now part of the private API.\n",
            "  warnings.warn(message, FutureWarning)\n",
            "/usr/local/lib/python3.7/dist-packages/sklearn/utils/deprecation.py:87: FutureWarning: Function safe_indexing is deprecated; safe_indexing is deprecated in version 0.22 and will be removed in version 0.24.\n",
            "  warnings.warn(msg, category=FutureWarning)\n"
          ],
          "name": "stderr"
        }
      ]
    },
    {
      "cell_type": "code",
      "metadata": {
        "id": "kJlw_xL883qE",
        "colab": {
          "base_uri": "https://localhost:8080/"
        },
        "outputId": "2ef86a20-e0fc-4f51-9948-2e9cf05e7dfd"
      },
      "source": [
        "from imblearn.over_sampling import RandomOverSampler\n",
        "\n",
        "ros = RandomOverSampler()\n",
        "X_ros, y_ros = ros.fit_sample(X, y)"
      ],
      "execution_count": null,
      "outputs": [
        {
          "output_type": "stream",
          "text": [
            "/usr/local/lib/python3.7/dist-packages/sklearn/utils/deprecation.py:87: FutureWarning: Function safe_indexing is deprecated; safe_indexing is deprecated in version 0.22 and will be removed in version 0.24.\n",
            "  warnings.warn(msg, category=FutureWarning)\n"
          ],
          "name": "stderr"
        }
      ]
    },
    {
      "cell_type": "code",
      "metadata": {
        "id": "wMayb06j7Ob7"
      },
      "source": [
        "from sklearn.metrics import roc_curve, auc\n",
        "from sklearn.multiclass import OneVsRestClassifier\n",
        "from sklearn.svm import LinearSVC\n",
        "from sklearn.preprocessing import label_binarize\n",
        "from sklearn.model_selection import train_test_split\n",
        "import matplotlib.pyplot as plt\n",
        "\n",
        "import time\n",
        "import numpy as np\n",
        "from sklearn.ensemble import BaggingClassifier, RandomForestClassifier\n",
        "from sklearn import datasets\n",
        "from sklearn.multiclass import OneVsRestClassifier\n",
        "from sklearn.svm import SVC\n",
        "import time\n",
        "import numpy as np\n",
        "from sklearn.ensemble import BaggingClassifier, RandomForestClassifier\n",
        "from sklearn import datasets\n",
        "from sklearn.multiclass import OneVsRestClassifier\n",
        "from sklearn.svm import SVC\n",
        "\n",
        "from sklearn.ensemble import RandomForestClassifier\n",
        "from sklearn.ensemble import VotingClassifier\n",
        "from sklearn.linear_model import LogisticRegression\n",
        "from sklearn.svm import SVC\n",
        "from sklearn.model_selection import GridSearchCV\n",
        "from sklearn.linear_model import LogisticRegression\n",
        "from sklearn.naive_bayes import GaussianNB\n",
        "from sklearn.ensemble import RandomForestClassifier\n",
        "from mlxtend.classifier import EnsembleVoteClassifier\n",
        "from scipy import interp\n",
        "\n",
        "from  sklearn.metrics import precision_recall_fscore_support\n",
        "from sklearn.metrics import roc_curve, auc\n",
        "from sklearn.preprocessing import LabelBinarizer\n"
      ],
      "execution_count": null,
      "outputs": []
    },
    {
      "cell_type": "code",
      "metadata": {
        "id": "5k53uvqu7PPH"
      },
      "source": [
        "def class_report(y_true, y_pred, y_score=None, average='micro'):\n",
        "  if y_true.shape != y_pred.shape:\n",
        "    print(\"Error! y_true %s is not the same shape as y_pred %s\" % (\n",
        "          y_true.shape,\n",
        "          y_pred.shape)\n",
        "        )\n",
        "    return\n",
        "\n",
        "  lb = LabelBinarizer()\n",
        "\n",
        "  if len(y_true.shape) == 1:\n",
        "        lb.fit(y_true)\n",
        "\n",
        "  #Value counts of predictions\n",
        "  labels, cnt = np.unique(y_pred,return_counts=True)\n",
        "  n_classes = len(labels)\n",
        "  pred_cnt = pd.Series(cnt, index=labels)\n",
        "\n",
        "  metrics_summary = precision_recall_fscore_support(y_true=y_true,y_pred=y_pred,labels=labels)\n",
        "\n",
        "  avg = list(precision_recall_fscore_support(y_true=y_true, y_pred=y_pred,average='weighted'))\n",
        "\n",
        "  metrics_sum_index = ['precision', 'recall', 'f1-score', 'support']\n",
        "  class_report_df = pd.DataFrame(list(metrics_summary),index=metrics_sum_index,columns=labels)\n",
        "\n",
        "  support = class_report_df.loc['support']\n",
        "  total = support.sum()\n",
        "  class_report_df['avg / total'] = avg[:-1] + [total]\n",
        "\n",
        "  class_report_df = class_report_df.T\n",
        "  class_report_df['pred'] = pred_cnt\n",
        "  class_report_df['pred'].iloc[-1] = total\n",
        "\n",
        "  if not (y_score is None):\n",
        "    fpr = dict()\n",
        "    tpr = dict()\n",
        "    roc_auc = dict()\n",
        "    for label_it, label in enumerate(labels):\n",
        "      fpr[label], tpr[label], _ = roc_curve((y_true == label).astype(int), y_score[:, label_it])\n",
        "      roc_auc[label] = auc(fpr[label], tpr[label])\n",
        "\n",
        "    if average == 'micro':\n",
        "      if n_classes <= 2:\n",
        "        fpr[\"avg / total\"], tpr[\"avg / total\"], _ = roc_curve(lb.transform(y_true).ravel(), y_score[:, 1].ravel())\n",
        "      else:\n",
        "        fpr[\"avg / total\"], tpr[\"avg / total\"], _ = roc_curve(lb.transform(y_true).ravel(), y_score.ravel())\n",
        "\n",
        "      roc_auc[\"avg / total\"] = auc(fpr[\"avg / total\"],tpr[\"avg / total\"])\n",
        "\n",
        "    elif average == 'macro':\n",
        "      # First aggregate all false positive rates\n",
        "      all_fpr = np.unique(np.concatenate([fpr[i] for i in labels]))\n",
        "      # Then interpolate all ROC curves at this points\n",
        "      mean_tpr = np.zeros_like(all_fpr)\n",
        "      for i in labels:\n",
        "        mean_tpr += interp(all_fpr, fpr[i], tpr[i])\n",
        "        # Finally average it and compute AUC\n",
        "      mean_tpr /= n_classes\n",
        "      fpr[\"macro\"] = all_fpr\n",
        "      tpr[\"macro\"] = mean_tpr\n",
        "      roc_auc[\"avg / total\"] = auc(fpr[\"macro\"], tpr[\"macro\"])\n",
        "\n",
        "    class_report_df['AUC'] = pd.Series(roc_auc)\n",
        "\n",
        "  return class_report_df\n"
      ],
      "execution_count": null,
      "outputs": []
    },
    {
      "cell_type": "code",
      "metadata": {
        "id": "s015ooGt7VAY",
        "colab": {
          "base_uri": "https://localhost:8080/"
        },
        "outputId": "6d2925a5-fdea-490e-b16e-c9b2fb0ae598"
      },
      "source": [
        "X_trainsm, X_testsm, y_trainsm, y_testsm = train_test_split(X_ros, y_ros, test_size=0.5, random_state=5)\n",
        "print(X_trainsm.shape, X_testsm.shape, y_trainsm.shape, y_testsm.shape)\n",
        "\n",
        "model=XGBClassifier(n_estimators=41,max_depth=90,learning_rate=0.7)\n",
        "\n",
        "model.fit(X_trainsm, y_trainsm)\n",
        "y_pred_trainsm = model.predict(X_trainsm)\n",
        "y_predsm = model.predict(X_testsm)\n",
        "accuracy_trainsm = accuracy_score(y_trainsm, y_pred_trainsm)\n",
        "accuracysm = accuracy_score(y_testsm, y_predsm)\n",
        "print(\"Accuracysm: %.2f%%\" % (accuracysm * 100.0))\n",
        "print(\"Accuracy trainsm: %.2f%%\" % (accuracy_trainsm * 100.0))\n",
        "\n"
      ],
      "execution_count": null,
      "outputs": [
        {
          "output_type": "stream",
          "text": [
            "(2016, 16) (2016, 16) (2016,) (2016,)\n",
            "Accuracysm: 96.88%\n",
            "Accuracy trainsm: 99.55%\n"
          ],
          "name": "stdout"
        }
      ]
    },
    {
      "cell_type": "code",
      "metadata": {
        "id": "qYZ8aqRx7rR_",
        "colab": {
          "base_uri": "https://localhost:8080/"
        },
        "outputId": "d5cc1f8c-de42-4c12-976e-1c443b14b012"
      },
      "source": [
        "!pip install scikit-plot\n",
        "\n",
        "import scikitplot as skplt\n",
        "import matplotlib.pyplot as plt"
      ],
      "execution_count": null,
      "outputs": [
        {
          "output_type": "stream",
          "text": [
            "Collecting scikit-plot\n",
            "  Downloading https://files.pythonhosted.org/packages/7c/47/32520e259340c140a4ad27c1b97050dd3254fdc517b1d59974d47037510e/scikit_plot-0.3.7-py3-none-any.whl\n",
            "Requirement already satisfied: joblib>=0.10 in /usr/local/lib/python3.7/dist-packages (from scikit-plot) (1.0.1)\n",
            "Requirement already satisfied: scipy>=0.9 in /usr/local/lib/python3.7/dist-packages (from scikit-plot) (1.4.1)\n",
            "Requirement already satisfied: matplotlib>=1.4.0 in /usr/local/lib/python3.7/dist-packages (from scikit-plot) (3.2.2)\n",
            "Requirement already satisfied: scikit-learn>=0.18 in /usr/local/lib/python3.7/dist-packages (from scikit-plot) (0.22.2.post1)\n",
            "Requirement already satisfied: numpy>=1.13.3 in /usr/local/lib/python3.7/dist-packages (from scipy>=0.9->scikit-plot) (1.19.5)\n",
            "Requirement already satisfied: pyparsing!=2.0.4,!=2.1.2,!=2.1.6,>=2.0.1 in /usr/local/lib/python3.7/dist-packages (from matplotlib>=1.4.0->scikit-plot) (2.4.7)\n",
            "Requirement already satisfied: kiwisolver>=1.0.1 in /usr/local/lib/python3.7/dist-packages (from matplotlib>=1.4.0->scikit-plot) (1.3.1)\n",
            "Requirement already satisfied: cycler>=0.10 in /usr/local/lib/python3.7/dist-packages (from matplotlib>=1.4.0->scikit-plot) (0.10.0)\n",
            "Requirement already satisfied: python-dateutil>=2.1 in /usr/local/lib/python3.7/dist-packages (from matplotlib>=1.4.0->scikit-plot) (2.8.1)\n",
            "Requirement already satisfied: six in /usr/local/lib/python3.7/dist-packages (from cycler>=0.10->matplotlib>=1.4.0->scikit-plot) (1.15.0)\n",
            "Installing collected packages: scikit-plot\n",
            "Successfully installed scikit-plot-0.3.7\n"
          ],
          "name": "stdout"
        }
      ]
    },
    {
      "cell_type": "code",
      "metadata": {
        "id": "AIs300np7jtv",
        "colab": {
          "base_uri": "https://localhost:8080/",
          "height": 313
        },
        "outputId": "fd992fe2-a198-45d5-a2ef-7359d5199c72"
      },
      "source": [
        "probas = model.predict(X_testsm)\n",
        "\n",
        "y_testsm = y_testsm.reshape(y_testsm.shape[0])\n",
        "y_predsm = probas.reshape(probas.shape[0])\n",
        "print(y_testsm.shape,y_predsm.shape)\n",
        "\n",
        "\n",
        "skplt.metrics.plot_confusion_matrix(y_testsm,y_predsm, normalize=True, cmap='hot_r')\n",
        "plt.show()\n"
      ],
      "execution_count": null,
      "outputs": [
        {
          "output_type": "stream",
          "text": [
            "(2016,) (2016,)\n"
          ],
          "name": "stdout"
        },
        {
          "output_type": "display_data",
          "data": {
            "image/png": "[encoded data removed]",
            "text/plain": [
              "<Figure size 432x288 with 2 Axes>"
            ]
          },
          "metadata": {
            "tags": [],
            "needs_background": "light"
          }
        }
      ]
    },
    {
      "cell_type": "code",
      "metadata": {
        "id": "AvNDEpiu9Buh",
        "colab": {
          "base_uri": "https://localhost:8080/"
        },
        "outputId": "ab93bf39-0adb-4dc5-e99e-461b4ca3dff9"
      },
      "source": [
        "report_with_auc = class_report(\n",
        "    y_true=y_testsm,\n",
        "    y_pred=model.predict(X_testsm),\n",
        "    y_score=model.predict_proba(X_testsm))\n",
        "print(\"XGBClassifier\\n\",report_with_auc)"
      ],
      "execution_count": null,
      "outputs": [
        {
          "output_type": "stream",
          "text": [
            "XGBClassifier\n",
            "              precision    recall  f1-score  support    pred       AUC\n",
            "0.0           0.940476  0.946108  0.943284    167.0   168.0  0.997043\n",
            "1.0           1.000000  1.000000  1.000000    162.0   162.0  1.000000\n",
            "2.0           0.955056  1.000000  0.977011    170.0   178.0  0.999831\n",
            "3.0           1.000000  0.732919  0.845878    161.0   118.0  0.979769\n",
            "4.0           1.000000  1.000000  1.000000    172.0   172.0  1.000000\n",
            "5.0           0.951515  0.969136  0.960245    162.0   165.0  0.999735\n",
            "6.0           1.000000  1.000000  1.000000    167.0   167.0  1.000000\n",
            "7.0           0.994083  1.000000  0.997033    168.0   169.0  1.000000\n",
            "8.0           0.948571  1.000000  0.973607    166.0   175.0  0.999943\n",
            "9.0           0.994152  1.000000  0.997067    170.0   171.0  1.000000\n",
            "10.0          0.880597  1.000000  0.936508    177.0   201.0  0.999622\n",
            "11.0          0.988235  0.965517  0.976744    174.0   170.0  0.999925\n",
            "avg / total   0.970664  0.968750  0.967611   2016.0  2016.0  0.999195\n"
          ],
          "name": "stdout"
        }
      ]
    },
    {
      "cell_type": "code",
      "metadata": {
        "id": "0_72kUJD9jMr",
        "colab": {
          "base_uri": "https://localhost:8080/",
          "height": 549
        },
        "outputId": "5ba3c726-fcf6-4926-87db-01b197e0c59c"
      },
      "source": [
        "log_clf = LogisticRegression(penalty='l2',max_iter=10000,C=1,solver='lbfgs',l1_ratio=None)\n",
        "log_clf.fit(X_trainsm, y_trainsm)\n",
        "y_pred_trainsmlog_clf = log_clf.predict(X_trainsm)\n",
        "y_predsmlog_clf = log_clf.predict(X_testsm)\n",
        "accuracy_trainsm = accuracy_score(y_trainsm, y_pred_trainsmlog_clf)\n",
        "accuracysm = accuracy_score(y_testsm, y_predsmlog_clf)\n",
        "print(\"Accuracysm of log_clf: %.2f%%\" % (accuracysm * 100.0))\n",
        "print(\"Accuracy trainsm of log_clf: %.2f%%\" % (accuracy_trainsm * 100.0))\n",
        "\n",
        "probas1 = log_clf.predict_proba(X_testsm)\n",
        "\n",
        "skplt.metrics.plot_roc_curve(y_testsm,probas1,title=\"ROC Curves with LogisticRegression\", cmap='hot_r', figsize=[7,7])\n",
        "plt.show()\n",
        "\n",
        "from sklearn.metrics import confusion_matrix\n",
        "from matplotlib import pyplot as plt"
      ],
      "execution_count": null,
      "outputs": [
        {
          "output_type": "stream",
          "text": [
            "Accuracysm of log_clf: 65.18%\n",
            "Accuracy trainsm of log_clf: 68.15%\n"
          ],
          "name": "stdout"
        },
        {
          "output_type": "stream",
          "text": [
            "/usr/local/lib/python3.7/dist-packages/sklearn/utils/deprecation.py:87: FutureWarning: Function plot_roc_curve is deprecated; This will be removed in v0.5.0. Please use scikitplot.metrics.plot_roc instead.\n",
            "  warnings.warn(msg, category=FutureWarning)\n"
          ],
          "name": "stderr"
        },
        {
          "output_type": "display_data",
          "data": {
            "image/png": "[encoded data removed]",
            "text/plain": [
              "<Figure size 504x504 with 1 Axes>"
            ]
          },
          "metadata": {
            "tags": [],
            "needs_background": "light"
          }
        }
      ]
    },
    {
      "cell_type": "code",
      "metadata": {
        "id": "Al1rZcKx93b-",
        "colab": {
          "base_uri": "https://localhost:8080/",
          "height": 295
        },
        "outputId": "7b83c952-9806-43e7-d708-ce6398fdf071"
      },
      "source": [
        "skplt.metrics.plot_confusion_matrix(y_testsm,y_predsmlog_clf, normalize=True, cmap='hot_r')\n",
        "plt.show()\n"
      ],
      "execution_count": null,
      "outputs": [
        {
          "output_type": "display_data",
          "data": {
            "image/png": "[encoded data removed]",
            "text/plain": [
              "<Figure size 432x288 with 2 Axes>"
            ]
          },
          "metadata": {
            "tags": [],
            "needs_background": "light"
          }
        }
      ]
    },
    {
      "cell_type": "code",
      "metadata": {
        "id": "MHGvpv9h9M53",
        "colab": {
          "base_uri": "https://localhost:8080/"
        },
        "outputId": "fa5f10c6-e60d-454c-d0f9-97d9b3021c83"
      },
      "source": [
        "report_with_auc = class_report(\n",
        "    y_true=y_testsm,\n",
        "    y_pred=log_clf.predict(X_testsm),\n",
        "    y_score=log_clf.predict_proba(X_testsm))\n",
        "print(\"LogisticRegression\\n\",report_with_auc)"
      ],
      "execution_count": null,
      "outputs": [
        {
          "output_type": "stream",
          "text": [
            "LogisticRegression\n",
            "              precision    recall  f1-score  support    pred       AUC\n",
            "0.0           0.500000  0.520958  0.510264    167.0   174.0  0.904677\n",
            "1.0           0.993865  1.000000  0.996923    162.0   163.0  1.000000\n",
            "2.0           0.518072  0.252941  0.339921    170.0    83.0  0.878296\n",
            "3.0           0.346154  0.391304  0.367347    161.0   182.0  0.843904\n",
            "4.0           0.934783  1.000000  0.966292    172.0   184.0  1.000000\n",
            "5.0           0.701493  0.580247  0.635135    162.0   134.0  0.956056\n",
            "6.0           0.644788  1.000000  0.784038    167.0   259.0  0.998096\n",
            "7.0           0.763780  0.577381  0.657627    168.0   127.0  0.931445\n",
            "8.0           0.477707  0.451807  0.464396    166.0   157.0  0.896853\n",
            "9.0           0.798122  1.000000  0.887728    170.0   213.0  1.000000\n",
            "10.0          0.363158  0.389831  0.376022    177.0   190.0  0.882923\n",
            "11.0          0.766667  0.660920  0.709877    174.0   150.0  0.933253\n",
            "avg / total   0.650490  0.651786  0.640988   2016.0  2016.0  0.952414\n"
          ],
          "name": "stdout"
        }
      ]
    },
    {
      "cell_type": "code",
      "metadata": {
        "id": "zRP6Brz7-Fpa",
        "colab": {
          "base_uri": "https://localhost:8080/"
        },
        "outputId": "32bb46ca-5d01-497f-a395-e05a39992394"
      },
      "source": [
        "RandomForest=RandomForestClassifier(bootstrap= False,max_depth= 70,max_features= 1,min_samples_leaf= 1,min_samples_split= 2,n_estimators= 100)\n",
        "\n",
        "RandomForest.fit(X_trainsm, y_trainsm)\n",
        "y_pred_trainsm_rnd = RandomForest.predict(X_trainsm)\n",
        "y_predsm_rnd = RandomForest.predict(X_testsm)\n",
        "accuracy_trainsm = accuracy_score(y_trainsm, y_pred_trainsm_rnd)\n",
        "accuracysm = accuracy_score(y_testsm, y_predsm_rnd)\n",
        "print(\"Accuracysm of random_forest: %.2f%%\" % (accuracysm * 100.0))\n",
        "print(\"Accuracy trainsm of random_forest: %.2f%%\" % (accuracy_trainsm * 100.0))\n",
        "\n"
      ],
      "execution_count": null,
      "outputs": [
        {
          "output_type": "stream",
          "text": [
            "Accuracysm of random_forest: 97.37%\n",
            "Accuracy trainsm of random_forest: 99.55%\n"
          ],
          "name": "stdout"
        }
      ]
    },
    {
      "cell_type": "code",
      "metadata": {
        "id": "uYJCH_NX-Lpg",
        "colab": {
          "base_uri": "https://localhost:8080/",
          "height": 514
        },
        "outputId": "5ce77942-a268-41b3-e6e1-7431e41b3699"
      },
      "source": [
        "probas2 = RandomForest.predict_proba(X_testsm)\n",
        "\n",
        "skplt.metrics.plot_roc_curve(y_testsm,probas2,title=\"ROC Curves with RandomForestClassifier\", cmap='BuGn', figsize=[7,7])\n",
        "plt.show()\n",
        "\n",
        "\n"
      ],
      "execution_count": null,
      "outputs": [
        {
          "output_type": "stream",
          "text": [
            "/usr/local/lib/python3.7/dist-packages/sklearn/utils/deprecation.py:87: FutureWarning: Function plot_roc_curve is deprecated; This will be removed in v0.5.0. Please use scikitplot.metrics.plot_roc instead.\n",
            "  warnings.warn(msg, category=FutureWarning)\n"
          ],
          "name": "stderr"
        },
        {
          "output_type": "display_data",
          "data": {
            "image/png": "[encoded data removed]",
            "text/plain": [
              "<Figure size 504x504 with 1 Axes>"
            ]
          },
          "metadata": {
            "tags": [],
            "needs_background": "light"
          }
        }
      ]
    },
    {
      "cell_type": "code",
      "metadata": {
        "id": "8BSG30dV-SGG",
        "colab": {
          "base_uri": "https://localhost:8080/",
          "height": 295
        },
        "outputId": "accf6654-769c-444e-d8f1-0f4793c8195e"
      },
      "source": [
        "\n",
        "skplt.metrics.plot_confusion_matrix(y_testsm,y_predsm_rnd, normalize=True,cmap='BuGn')\n",
        "plt.show()\n"
      ],
      "execution_count": null,
      "outputs": [
        {
          "output_type": "display_data",
          "data": {
            "image/png": "[encoded data removed]",
            "text/plain": [
              "<Figure size 432x288 with 2 Axes>"
            ]
          },
          "metadata": {
            "tags": [],
            "needs_background": "light"
          }
        }
      ]
    },
    {
      "cell_type": "code",
      "metadata": {
        "id": "MwQl8BJp-Vru",
        "colab": {
          "base_uri": "https://localhost:8080/"
        },
        "outputId": "5d244fa4-ee37-41fe-efab-da9f4ca64f7c"
      },
      "source": [
        "report_with_auc = class_report(\n",
        "    y_true=y_testsm,\n",
        "    y_pred=RandomForest.predict(X_testsm),\n",
        "    y_score=RandomForest.predict_proba(X_testsm))\n",
        "print(\"RandomForest\\n\",report_with_auc)"
      ],
      "execution_count": null,
      "outputs": [
        {
          "output_type": "stream",
          "text": [
            "RandomForest\n",
            "              precision    recall  f1-score  support    pred       AUC\n",
            "0.0           0.957576  0.946108  0.951807    167.0   165.0  0.971713\n",
            "1.0           1.000000  1.000000  1.000000    162.0   162.0  1.000000\n",
            "2.0           0.965909  1.000000  0.982659    170.0   176.0  1.000000\n",
            "3.0           1.000000  0.795031  0.885813    161.0   128.0  0.993638\n",
            "4.0           1.000000  1.000000  1.000000    172.0   172.0  1.000000\n",
            "5.0           0.957317  0.969136  0.963190    162.0   164.0  0.999719\n",
            "6.0           1.000000  1.000000  1.000000    167.0   167.0  1.000000\n",
            "7.0           0.971098  1.000000  0.985337    168.0   173.0  1.000000\n",
            "8.0           0.902174  1.000000  0.948571    166.0   184.0  0.999764\n",
            "9.0           1.000000  1.000000  1.000000    170.0   170.0  1.000000\n",
            "10.0          0.956757  1.000000  0.977901    177.0   185.0  0.999456\n",
            "11.0          0.988235  0.965517  0.976744    174.0   170.0  0.999906\n",
            "avg / total   0.974905  0.973710  0.973064   2016.0  2016.0  0.996979\n"
          ],
          "name": "stdout"
        }
      ]
    },
    {
      "cell_type": "code",
      "metadata": {
        "id": "8iRJ3Fry-aAx",
        "colab": {
          "base_uri": "https://localhost:8080/"
        },
        "outputId": "e54b2367-3366-4634-bb57-7aba4a50e68f"
      },
      "source": [
        "from sklearn import model_selection\n",
        "from sklearn.linear_model import LogisticRegression\n",
        "from sklearn.naive_bayes import GaussianNB\n",
        "from sklearn.ensemble import RandomForestClassifier\n",
        "from sklearn.svm import SVC\n",
        "from sklearn.ensemble import BaggingClassifier, RandomForestClassifier\n",
        "from sklearn.multiclass import OneVsRestClassifier\n",
        "clf1 = XGBClassifier(n_estimators=41,max_depth=90,learning_rate=0.7)\n",
        "clf3 = RandomForestClassifier(bootstrap= False,max_depth= 70,max_features= 1,min_samples_leaf= 1,min_samples_split= 2,n_estimators= 100)\n",
        "clf4 = VotingClassifier(\n",
        "estimators=[('XGB', clf1), ('RandomForestClassifier',clf3)],voting='soft')\n",
        "\n",
        "\n",
        "print('15-fold cross validation:\\n')\n",
        "\n",
        "labels = ['XGB', 'RandomForestClassifier','VotingClassifier' ]\n",
        "\n",
        "for clf, label in zip([clf1, clf3, clf4], labels):\n",
        "\n",
        "    scores = model_selection.cross_val_score(clf,X_trainsm, y_trainsm,\n",
        "                                              cv=15,\n",
        "                                              scoring='accuracy')\n",
        "    print(\"Accuracy: %0.2f (+/- %0.2f) [%s]\"\n",
        "           % (scores.mean(), scores.std(), label))\n"
      ],
      "execution_count": null,
      "outputs": [
        {
          "output_type": "stream",
          "text": [
            "15-fold cross validation:\n",
            "\n",
            "Accuracy: 0.97 (+/- 0.01) [XGB]\n",
            "Accuracy: 0.96 (+/- 0.01) [RandomForestClassifier]\n",
            "Accuracy: 0.97 (+/- 0.01) [VotingClassifier]\n"
          ],
          "name": "stdout"
        }
      ]
    }
  ]
}